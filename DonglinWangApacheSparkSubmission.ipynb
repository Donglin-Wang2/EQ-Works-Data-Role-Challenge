{
 "cells": [
  {
   "cell_type": "markdown",
   "id": "17849fd7",
   "metadata": {},
   "source": [
    "# Donglin Wang Data Role Submission\n",
    "This is the submission for the data role at EQ Work. I used the PySpark option as the main framework for my solution. "
   ]
  },
  {
   "cell_type": "markdown",
   "id": "63a80a3c",
   "metadata": {},
   "source": [
    "## 0. Importing dependencies and datasets"
   ]
  },
  {
   "cell_type": "code",
   "execution_count": 1,
   "id": "f65a73e9",
   "metadata": {},
   "outputs": [],
   "source": [
    "import os\n",
    "import math\n",
    "import matplotlib.pyplot as plt\n",
    "from pyspark.sql import SparkSession\n",
    "from pyspark.sql.functions import * \n",
    "from pyspark.sql.window import Window\n",
    "from pyspark.ml.feature import VectorAssembler"
   ]
  },
  {
   "cell_type": "code",
   "execution_count": 2,
   "id": "3907a458",
   "metadata": {},
   "outputs": [],
   "source": [
    "spark = SparkSession.builder.master('local').getOrCreate()\n",
    "requests = spark.read.options(\n",
    "    header='True',\n",
    "    inferSchema='True',\n",
    "    delimiter=',',\n",
    ").csv(os.path.expanduser('~/data/DataSample.csv'))\n",
    "pois = spark.read.options(\n",
    "    header='True',\n",
    "    inferSchema='True',\n",
    "    delimiter=',',\n",
    ").csv(os.path.expanduser('~/data/POIList.csv'))"
   ]
  },
  {
   "cell_type": "markdown",
   "id": "9054a538",
   "metadata": {},
   "source": [
    "## 1. Filtering out questionable requests\n",
    "In the cell below, I first used a group function to gather all the requests that have unique time, latitude, and longitude. I then joined this grouped table with the original dataset to obtain a list of the safe requests."
   ]
  },
  {
   "cell_type": "code",
   "execution_count": 3,
   "id": "4cb77e44",
   "metadata": {},
   "outputs": [
    {
     "name": "stdout",
     "output_type": "stream",
     "text": [
      "+-------+--------------------+-------+--------+------------+--------+---------+\n",
      "|    _ID|              TimeSt|Country|Province|        City|Latitude|Longitude|\n",
      "+-------+--------------------+-------+--------+------------+--------+---------+\n",
      "|4516516|2017-06-21 00:00:...|     CA|      ON|    Waterloo|43.49347|-80.49123|\n",
      "|4516547|2017-06-21 18:00:...|     CA|      ON|      London| 42.9399| -81.2709|\n",
      "|4516550|2017-06-21 15:00:...|     CA|      ON|      Guelph| 43.5776| -80.2201|\n",
      "|4516600|2017-06-21 15:00:...|     CA|      ON|   Stratford| 43.3716| -80.9773|\n",
      "|4516613|2017-06-21 15:00:...|     CA|      ON|   Stratford| 43.3716| -80.9773|\n",
      "|4516693|2017-06-21 14:00:...|     CA|      ON|   Kitchener| 43.4381| -80.5099|\n",
      "|4516771|2017-06-21 10:00:...|     CA|      ON|      Sarnia|  42.961|  -82.373|\n",
      "|4516915|2017-06-21 15:00:...|     CA|      ON|      London| 43.0091| -81.1765|\n",
      "|4516953|2017-06-21 16:00:...|     CA|      ON|   Kitchener| 43.4278| -80.5135|\n",
      "|4516966|2017-06-21 01:00:...|     CA|      ON|   Kitchener| 43.4381| -80.5099|\n",
      "|4517044|2017-06-21 21:00:...|     CA|      ON|     Windsor| 42.2825| -83.0372|\n",
      "|4517081|2017-06-21 22:00:...|     CA|      ON|     Windsor|42.24397|-82.98058|\n",
      "|4517175|2017-06-21 19:00:...|     CA|      ON|Saint Thomas| 42.7792| -81.1927|\n",
      "|4517220|2017-06-21 18:00:...|     CA|      ON|    Waterloo| 43.4634| -80.5201|\n",
      "|4517250|2017-06-21 03:00:...|     CA|      ON|     Chatham| 42.4247| -82.1755|\n",
      "|4517326|2017-06-21 04:00:...|     CA|      ON|      Guelph| 43.5425| -80.2676|\n",
      "|4517349|2017-06-21 14:00:...|     CA|      ON|     Chatham| 42.4247| -82.1755|\n",
      "|4517420|2017-06-21 08:00:...|     CA|      ON|      Guelph| 43.5215| -80.2338|\n",
      "|4517466|2017-06-21 03:00:...|     CA|      ON|    Waterloo| 43.4678|  -80.584|\n",
      "|4517518|2017-06-21 21:00:...|     CA|      ON|    Waterloo| 43.4634| -80.5201|\n",
      "+-------+--------------------+-------+--------+------------+--------+---------+\n",
      "only showing top 20 rows\n",
      "\n"
     ]
    }
   ],
   "source": [
    "def get_safe_requests(df, criteria):\n",
    "    count_table = df.groupBy(criteria).count().where(\"count = 1\")\n",
    "    filtered = df.join(\n",
    "        count_table, criteria\n",
    "    ).select(df[\"*\"])\n",
    "    return filtered\n",
    "\n",
    "criteria = [\" TimeSt\", \"Latitude\", \"Longitude\"]\n",
    "filtered_reqs = get_safe_requests(requests, criteria)\n",
    "filtered_reqs.show()"
   ]
  },
  {
   "cell_type": "markdown",
   "id": "3bb09ac3",
   "metadata": {},
   "source": [
    "## 2. Assigning each request to a POI\n",
    "In the cell below, I assigned each request to the POI that they are closest to. **I noticed that POI1 and POI2 are identical. Therefore, I only assigned requests to POI1.**"
   ]
  },
  {
   "cell_type": "code",
   "execution_count": 4,
   "id": "635514fb",
   "metadata": {},
   "outputs": [
    {
     "name": "stdout",
     "output_type": "stream",
     "text": [
      "+-------+------------------+-----+\n",
      "|    _ID|          Distance|POIID|\n",
      "+-------+------------------+-----+\n",
      "|4517905| 832.9559044776602| POI3|\n",
      "|4526426|219.46152613302212| POI3|\n",
      "|4535091| 279.5544969402128| POI1|\n",
      "|4545807|489.24993432136375| POI3|\n",
      "|4559622|273.46970531513176| POI3|\n",
      "|4566292|  522.859880059124| POI3|\n",
      "|4627121| 543.7619035266968| POI3|\n",
      "|4641250| 575.3734521671146| POI4|\n",
      "|4642240|11.787141911666764| POI1|\n",
      "|4655592|281.68360939878573| POI1|\n",
      "|4658793|  522.019302021386| POI3|\n",
      "|4670539| 297.8335446811667| POI1|\n",
      "|4670861| 279.4649002371354| POI1|\n",
      "|4700696| 536.8740990194277| POI3|\n",
      "|4747687| 279.4649002371354| POI1|\n",
      "|4763768|277.12477385588113| POI1|\n",
      "|4771855|496.34922110135346| POI3|\n",
      "|4792728|11.870730699715196| POI1|\n",
      "|4800265| 269.7406912064529| POI3|\n",
      "|4807712|11.787141911666764| POI1|\n",
      "+-------+------------------+-----+\n",
      "only showing top 20 rows\n",
      "\n"
     ]
    }
   ],
   "source": [
    "def assign_poi(requests, pois):\n",
    "    \n",
    "    def dist(long_x, lat_x, long_y, lat_y):\n",
    "        return acos(\n",
    "            sin(toRadians(lat_x)) * sin(toRadians(lat_y)) + \n",
    "            cos(toRadians(lat_x)) * cos(toRadians(lat_y)) * \n",
    "                cos(toRadians(long_x) - toRadians(long_y))\n",
    "        ) * lit(6371.0)\n",
    "\n",
    "    pois = pois.toDF(\"POIID\", \"POI_Latitude\",\"POI_Longitude\")\n",
    "    dist_table = requests.crossJoin(pois)\n",
    "    dist_table = dist_table.withColumn(\"Distance\", dist(dist_table[\"Longitude\"], dist_table[\"Latitude\"], \\\n",
    "                                           dist_table[\"POI_Longitude\"], dist_table[\"POI_Latitude\"]))\n",
    "    dist_window = Window.partitionBy(dist_table[\"_ID\"]).orderBy(\"Distance\")\n",
    "    assign_table = dist_table.withColumn(\"Distance_Rank\", row_number().over(dist_window))\\\n",
    "                    .select([\"_ID\", \"Distance\", \"Distance_Rank\", \"POIID\"])\\\n",
    "                    .where(\"Distance_Rank = 1\")\\\n",
    "                    .drop(\"Distance_Rank\")\n",
    "    return assign_table\n",
    "\n",
    "assign_table = assign_poi(filtered_reqs, pois)\n",
    "assign_table.show()"
   ]
  },
  {
   "cell_type": "markdown",
   "id": "ef5300e7",
   "metadata": {},
   "source": [
    "## 3. Calculate statistics about the POI assignments\n",
    "In the cell below, I calculated the average, standard deviation, enclosing circle radius, and request density for each POI."
   ]
  },
  {
   "cell_type": "code",
   "execution_count": 5,
   "id": "a719d2a4",
   "metadata": {},
   "outputs": [
    {
     "name": "stdout",
     "output_type": "stream",
     "text": [
      "Average distance for each Point of Interest\n",
      "+-----+------------------+\n",
      "|POIID|     avg(Distance)|\n",
      "+-----+------------------+\n",
      "| POI4| 514.9971719812286|\n",
      "| POI1|300.71474756868054|\n",
      "| POI3| 451.6511492015015|\n",
      "+-----+------------------+\n",
      "\n",
      "The radius of circle enclosing all requests for each Point of Interest\n",
      "+-----+------------------+\n",
      "|POIID|     max(Distance)|\n",
      "+-----+------------------+\n",
      "| POI4| 9349.572770487366|\n",
      "| POI1|11531.820831836454|\n",
      "| POI3|1474.5809620285709|\n",
      "+-----+------------------+\n",
      "\n",
      "Standard deviation of distance for each Point of Interest\n",
      "+-----+---------------------+\n",
      "|POIID|stddev_samp(Distance)|\n",
      "+-----+---------------------+\n",
      "| POI4|   1506.8899707703208|\n",
      "| POI1|   388.27338526354424|\n",
      "| POI3|   223.63174183104917|\n",
      "+-----+---------------------+\n",
      "\n",
      "Request density for each Point of Interest\n",
      "+-----+-----+------------------+--------------------+\n",
      "|POIID|Count|            Radius|             Density|\n",
      "+-----+-----+------------------+--------------------+\n",
      "| POI4|  422| 9349.572770487366|1.536664455904176...|\n",
      "| POI1| 8749|11531.820831836454|2.094174038984837...|\n",
      "| POI3| 8802|1474.5809620285709|0.001288529145748...|\n",
      "+-----+-----+------------------+--------------------+\n",
      "\n"
     ]
    }
   ],
   "source": [
    "poi_stat_table = assign_table.groupBy(\"POIID\")\n",
    "print(\"Average distance for each Point of Interest\")\n",
    "poi_stat_table.avg(\"Distance\").show()\n",
    "print(\"The radius of circle enclosing all requests for each Point of Interest\")\n",
    "poi_stat_table.max(\"Distance\").show()\n",
    "print(\"Standard deviation of distance for each Point of Interest\")\n",
    "poi_stat_table.agg(stddev(\"Distance\")).show()\n",
    "print(\"Request density for each Point of Interest\")\n",
    "poi_counts = poi_stat_table.agg(count(\"POIID\").alias(\"Count\"))\n",
    "poi_radius = poi_stat_table.agg(max(\"Distance\").alias(\"Radius\"))\n",
    "poi_density = poi_counts.join(poi_radius, \"POIID\")\n",
    "poi_density.withColumn(\"Density\", poi_density[\"Count\"] / (poi_density[\"Radius\"] ** 2 * math.pi)).show()"
   ]
  },
  {
   "cell_type": "markdown",
   "id": "d4577d24",
   "metadata": {},
   "source": [
    "## 4a. Analyze and model the data\n",
    "### 4a.1\n",
    "In the cel below, I have put the request distance for each of the points of interest into a box plot. \n",
    "According to the documentation of pandas.DataFrame.boxplot, the edges of the box indicates the 1st (Q1) and 3rd (Q3) quartile of the distances while the line in the middle is the median. The whisker extends outward by no more than 1.5 * (Q3 - Q1), meaning that any points that lie outside Q1 - 1.5 * (Q3 - Q1) or Q3 + 1.5 * (Q3 - Q1) would be outside of the top and bottom whisker. As we can see, both POI1 and POI4 have a lot of outliers that are a lot further to the POI then the rest of the requests, whereas the distance distribution for POI3 spread more evenly. "
   ]
  },
  {
   "cell_type": "code",
   "execution_count": 6,
   "id": "23c8193e",
   "metadata": {
    "scrolled": true
   },
   "outputs": [
    {
     "data": {
      "text/plain": [
       "<AxesSubplot:title={'center':'Distances between POI4 and its assigned requests'}>"
      ]
     },
     "execution_count": 6,
     "metadata": {},
     "output_type": "execute_result"
    },
    {
     "data": {
      "image/png": "[encoded data removed]",
      "text/plain": [
       "<Figure size 432x288 with 1 Axes>"
      ]
     },
     "metadata": {
      "needs_background": "light"
     },
     "output_type": "display_data"
    },
    {
     "data": {
      "image/png": "[encoded data removed]",
      "text/plain": [
       "<Figure size 432x288 with 1 Axes>"
      ]
     },
     "metadata": {
      "needs_background": "light"
     },
     "output_type": "display_data"
    },
    {
     "data": {
      "image/png": "[encoded data removed]",
      "text/plain": [
       "<Figure size 432x288 with 1 Axes>"
      ]
     },
     "metadata": {
      "needs_background": "light"
     },
     "output_type": "display_data"
    }
   ],
   "source": [
    "poi1_distance = assign_table.select([\"Distance\"]).where('POIID = \"POI1\"')\n",
    "poi3_distance = assign_table.select([\"Distance\"]).where('POIID = \"POI3\"')\n",
    "poi4_distance = assign_table.select([\"Distance\"]).where('POIID = \"POI4\"')\n",
    "plt.title(\"Distances between POI1 and its assigned requests\")\n",
    "poi1_distance.toPandas().boxplot(\"Distance\")\n",
    "plt.figure()\n",
    "plt.title(\"Distances between POI3 and its assigned requests\")\n",
    "poi3_distance.toPandas().boxplot(\"Distance\")\n",
    "plt.figure()\n",
    "plt.title(\"Distances between POI4 and its assigned requests\")\n",
    "poi4_distance.toPandas().boxplot(\"Distance\")"
   ]
  },
  {
   "cell_type": "markdown",
   "id": "99dcc70e",
   "metadata": {},
   "source": [
    "Seeing that a lot of requests for POI1 and POI4 are outliers, I chose to filter out requests that are further than 2000 km away from the point of interest. The resulting box plot looks like this:"
   ]
  },
  {
   "cell_type": "code",
   "execution_count": 7,
   "id": "122fa017",
   "metadata": {},
   "outputs": [
    {
     "data": {
      "text/plain": [
       "<AxesSubplot:>"
      ]
     },
     "execution_count": 7,
     "metadata": {},
     "output_type": "execute_result"
    },
    {
     "data": {
      "image/png": "[encoded data removed]",
      "text/plain": [
       "<Figure size 432x288 with 1 Axes>"
      ]
     },
     "metadata": {
      "needs_background": "light"
     },
     "output_type": "display_data"
    },
    {
     "data": {
      "image/png": "[encoded data removed]",
      "text/plain": [
       "<Figure size 432x288 with 1 Axes>"
      ]
     },
     "metadata": {
      "needs_background": "light"
     },
     "output_type": "display_data"
    }
   ],
   "source": [
    "poi1_distance = poi1_distance.select([\"Distance\"]).where(\"Distance < 2000\")\n",
    "poi4_distance = poi4_distance.select([\"Distance\"]).where(\"Distance < 2000\")\n",
    "poi1_distance.toPandas().boxplot(\"Distance\")\n",
    "plt.figure()\n",
    "poi4_distance.toPandas().boxplot(\"Distance\")"
   ]
  },
  {
   "cell_type": "markdown",
   "id": "5788f2cc",
   "metadata": {},
   "source": [
    "After removing the outliers, I then calculated the score. Given a POI indexed by $j$ with $n$ requests $\\{d_{1,j}, ..., d_{n,j}\\}$, the score $score_{i,j}$ for the $i$th point is:\n",
    "$$score_{i,j} = 1 - \\frac{d_{i,j}}{max\\{d_{1,j}, ..., d_{n,j}\\} - min\\{d_{1,j}, ..., d_{n,j}\\}} \\times 20 - 10$$\n",
    "The cell below shows the histogram plot for the scores of each POI:"
   ]
  },
  {
   "cell_type": "code",
   "execution_count": 8,
   "id": "1b8a9ef1",
   "metadata": {},
   "outputs": [
    {
     "data": {
      "text/plain": [
       "<Figure size 432x288 with 0 Axes>"
      ]
     },
     "execution_count": 8,
     "metadata": {},
     "output_type": "execute_result"
    },
    {
     "data": {
      "image/png": "[encoded data removed]",
      "text/plain": [
       "<Figure size 432x288 with 1 Axes>"
      ]
     },
     "metadata": {
      "needs_background": "light"
     },
     "output_type": "display_data"
    },
    {
     "data": {
      "text/plain": [
       "<Figure size 432x288 with 0 Axes>"
      ]
     },
     "metadata": {},
     "output_type": "display_data"
    },
    {
     "data": {
      "image/png": "[encoded data removed]",
      "text/plain": [
       "<Figure size 432x288 with 1 Axes>"
      ]
     },
     "metadata": {
      "needs_background": "light"
     },
     "output_type": "display_data"
    },
    {
     "data": {
      "text/plain": [
       "<Figure size 432x288 with 0 Axes>"
      ]
     },
     "metadata": {},
     "output_type": "display_data"
    },
    {
     "data": {
      "image/png": "[encoded data removed]",
      "text/plain": [
       "<Figure size 432x288 with 1 Axes>"
      ]
     },
     "metadata": {
      "needs_background": "light"
     },
     "output_type": "display_data"
    },
    {
     "data": {
      "text/plain": [
       "<Figure size 432x288 with 0 Axes>"
      ]
     },
     "metadata": {},
     "output_type": "display_data"
    }
   ],
   "source": [
    "def calc_normalized_dist(df, col_name):\n",
    "    col_min = df.agg({col_name: \"min\"}).collect()[0][0]\n",
    "    col_max = df.agg({col_name: \"max\"}).collect()[0][0]\n",
    "    return df.withColumn(\"Score\",  (1 - poi1_distance[col_name] / (col_max - col_min)) * 20 - 10)\n",
    "\n",
    "poi1_scores = calc_normalized_dist(poi1_distance, \"Distance\")\n",
    "poi3_scores = calc_normalized_dist(poi3_distance, \"Distance\")\n",
    "poi4_scores = calc_normalized_dist(poi4_distance, \"Distance\")\n",
    "\n",
    "poi1_scores.toPandas().hist(\"Score\", bins=100)\n",
    "plt.title(\"Score distribution of POI1\")\n",
    "plt.figure()\n",
    "poi3_scores.toPandas().hist(\"Score\", bins=100)\n",
    "plt.title(\"Score distribution of POI3\")\n",
    "plt.figure()\n",
    "poi4_scores.toPandas().hist(\"Score\", bins=100)\n",
    "plt.title(\"Score distribution of POI4\")\n",
    "plt.figure()"
   ]
  },
  {
   "cell_type": "markdown",
   "id": "9f27a67b",
   "metadata": {},
   "source": [
    "To see the best which POI performs the best, I calculated the median and average scores for each POI in the cell below:"
   ]
  },
  {
   "cell_type": "code",
   "execution_count": 9,
   "id": "3bf95246",
   "metadata": {},
   "outputs": [
    {
     "name": "stdout",
     "output_type": "stream",
     "text": [
      "Average score for POI1\n",
      "+------------------+\n",
      "|        Mean Score|\n",
      "+------------------+\n",
      "|6.5044824305772835|\n",
      "+------------------+\n",
      "\n",
      "Average score for POI3\n",
      "+------------------+\n",
      "|        Mean Score|\n",
      "+------------------+\n",
      "|3.8708121626795116|\n",
      "+------------------+\n",
      "\n",
      "Average score for POI4\n",
      "+------------------+\n",
      "|        Mean Score|\n",
      "+------------------+\n",
      "|4.2096371714769925|\n",
      "+------------------+\n",
      "\n",
      "Median score for POI1\n",
      "+------------------------------------+\n",
      "|percentile_approx(Score, 0.5, 10000)|\n",
      "+------------------------------------+\n",
      "|                   6.704192344882234|\n",
      "+------------------------------------+\n",
      "\n",
      "Median score for POI3\n",
      "+------------------------------------+\n",
      "|percentile_approx(Score, 0.5, 10000)|\n",
      "+------------------------------------+\n",
      "|                  3.1469643103559655|\n",
      "+------------------------------------+\n",
      "\n",
      "Median score for POI4\n",
      "+------------------------------------+\n",
      "|percentile_approx(Score, 0.5, 10000)|\n",
      "+------------------------------------+\n",
      "|                   6.256832244977197|\n",
      "+------------------------------------+\n",
      "\n"
     ]
    }
   ],
   "source": [
    "print(\"Average score for POI1\")\n",
    "poi1_scores.select(avg(\"Score\").alias(\"Mean Score\")).show()\n",
    "print(\"Average score for POI3\")\n",
    "poi3_scores.select(avg(\"Score\").alias(\"Mean Score\")).show()\n",
    "print(\"Average score for POI4\")\n",
    "poi4_scores.select(avg(\"Score\").alias(\"Mean Score\")).show()\n",
    "print(\"Median score for POI1\")\n",
    "poi1_scores.select(percentile_approx(\"Score\", 0.5)).show()\n",
    "print(\"Median score for POI3\")\n",
    "poi3_scores.select(percentile_approx(\"Score\", 0.5)).show()\n",
    "print(\"Median score for POI4\")\n",
    "poi4_scores.select(percentile_approx(\"Score\", 0.5)).show()"
   ]
  },
  {
   "cell_type": "markdown",
   "id": "3e349367",
   "metadata": {},
   "source": [
    "It would appear that POI1 most accurately captures the requests nearby.\n",
    "\n",
    "### 4a.2\n",
    "For this part, I hypothesize another set of Points of Interests that would better capture the distribution of requests. I used the K-mean clustering algorithm to come up with the new set of coordinates. In addition, because there are many outliers in the bar graph, I used 4 points of interest instead of 3 to cover the outliers resulting from having only 3 POIs"
   ]
  },
  {
   "cell_type": "code",
   "execution_count": 10,
   "id": "7560dd64",
   "metadata": {},
   "outputs": [],
   "source": [
    "from pyspark.ml.clustering import KMeans\n",
    "from pyspark.ml.evaluation import ClusteringEvaluator"
   ]
  },
  {
   "cell_type": "code",
   "execution_count": 11,
   "id": "a3a1f361",
   "metadata": {},
   "outputs": [
    {
     "name": "stdout",
     "output_type": "stream",
     "text": [
      "[  51.92495071 -113.35158346]\n",
      "[ 43.91390492 -79.95142058]\n",
      "[25.1319348 72.1377144]\n",
      "[ 45.67683094 -71.91334253]\n"
     ]
    }
   ],
   "source": [
    "assembler = VectorAssembler(\n",
    "    inputCols=[\"Latitude\", \"Longitude\"],\n",
    "    outputCol=\"features\"\n",
    ")\n",
    "trainingData = assembler.transform(requests).select(\"features\")\n",
    "kmeans = KMeans().setK(4).setSeed(1)\n",
    "model = kmeans.fit(trainingData)\n",
    "for center in model.clusterCenters():\n",
    "    print(center)"
   ]
  },
  {
   "cell_type": "code",
   "execution_count": 12,
   "id": "2c2309be",
   "metadata": {},
   "outputs": [
    {
     "name": "stdout",
     "output_type": "stream",
     "text": [
      "+-----+------------------+-------------------+\n",
      "|POIID|      POI_Latitude|      POI_Longitude|\n",
      "+-----+------------------+-------------------+\n",
      "| POI1|51.924950713012386|-113.35158346374011|\n",
      "| POI2|  43.9139049192433| -79.95142058260134|\n",
      "| POI3| 25.13193480000001|  72.13771439999998|\n",
      "| POI4| 45.67683093901952| -71.91334253273482|\n",
      "+-----+------------------+-------------------+\n",
      "\n"
     ]
    }
   ],
   "source": [
    "new_pois = ()\n",
    "for i, (lat, long) in enumerate(model.clusterCenters()):\n",
    "    new_pois = new_pois + ((\"POI%s\"%(i+1), float(lat), float(long)), )\n",
    "\n",
    "columns = [\"POIID\", \"POI_Latitude\", \"POI_Longitude\"]\n",
    "new_pois = spark.createDataFrame(data = new_pois, schema = columns)\n",
    "new_pois.show()"
   ]
  },
  {
   "cell_type": "code",
   "execution_count": 13,
   "id": "e6e975b9",
   "metadata": {
    "scrolled": true
   },
   "outputs": [
    {
     "data": {
      "image/png": "[encoded data removed]",
      "text/plain": [
       "<Figure size 432x288 with 1 Axes>"
      ]
     },
     "metadata": {
      "needs_background": "light"
     },
     "output_type": "display_data"
    },
    {
     "data": {
      "image/png": "[encoded data removed]",
      "text/plain": [
       "<Figure size 432x288 with 1 Axes>"
      ]
     },
     "metadata": {
      "needs_background": "light"
     },
     "output_type": "display_data"
    },
    {
     "data": {
      "image/png": "[encoded data removed]",
      "text/plain": [
       "<Figure size 432x288 with 1 Axes>"
      ]
     },
     "metadata": {
      "needs_background": "light"
     },
     "output_type": "display_data"
    },
    {
     "data": {
      "image/png": "[encoded data removed]",
      "text/plain": [
       "<Figure size 432x288 with 1 Axes>"
      ]
     },
     "metadata": {
      "needs_background": "light"
     },
     "output_type": "display_data"
    },
    {
     "data": {
      "text/plain": [
       "<Figure size 432x288 with 0 Axes>"
      ]
     },
     "metadata": {},
     "output_type": "display_data"
    }
   ],
   "source": [
    "new_assign_table = assign_poi(filtered_reqs, new_pois)\n",
    "for i in range(1, 5):\n",
    "    new_assign_table.select(\"Distance\").where('POIID = \"POI%d\"' % i).toPandas().boxplot()\n",
    "    plt.figure()"
   ]
  },
  {
   "cell_type": "markdown",
   "id": "43f7ada2",
   "metadata": {},
   "source": [
    "As we can see, aside from one POI where the maximum distance reaches around 6000km, all of the POIs now have distances below 2000 km. The cell below provides some statistics for the new POIS:"
   ]
  },
  {
   "cell_type": "code",
   "execution_count": 14,
   "id": "e8f472ea",
   "metadata": {},
   "outputs": [
    {
     "name": "stdout",
     "output_type": "stream",
     "text": [
      "Average distance for each NEW Point of Interest\n",
      "+-----+------------------+\n",
      "|POIID|     avg(Distance)|\n",
      "+-----+------------------+\n",
      "| POI4|291.57883345611026|\n",
      "| POI2|105.60132893576147|\n",
      "| POI1| 259.4796987203471|\n",
      "| POI3| 3465.434658571387|\n",
      "+-----+------------------+\n",
      "\n",
      "The radius of circle enclosing all requests for each NEW Point of Interest\n",
      "+-----+------------------+\n",
      "|POIID|     max(Distance)|\n",
      "+-----+------------------+\n",
      "| POI4| 5839.317627684705|\n",
      "| POI2|  1306.22950139066|\n",
      "| POI1|1826.1560249033323|\n",
      "| POI3| 6008.679788738752|\n",
      "+-----+------------------+\n",
      "\n",
      "Standard deviation of distance for each NEW Point of Interest\n",
      "+-----+---------------------+\n",
      "|POIID|stddev_samp(Distance)|\n",
      "+-----+---------------------+\n",
      "| POI4|    302.4213149490086|\n",
      "| POI2|    162.5148195922189|\n",
      "| POI1|   254.73102161834493|\n",
      "| POI3|   1501.5031572626394|\n",
      "+-----+---------------------+\n",
      "\n",
      "Request density for each NEW Point of Interest\n",
      "+-----+-----+------------------+--------------------+\n",
      "|POIID|Count|            Radius|             Density|\n",
      "+-----+-----+------------------+--------------------+\n",
      "| POI4| 2163| 5839.317627684705|2.019214463313605...|\n",
      "| POI2| 7076|  1306.22950139066|0.001320076121400...|\n",
      "| POI1| 8717|1826.1560249033323|8.320346491454754E-4|\n",
      "| POI3|   17| 6008.679788738752|1.498790486578416E-7|\n",
      "+-----+-----+------------------+--------------------+\n",
      "\n"
     ]
    }
   ],
   "source": [
    "poi_stat_table = new_assign_table.groupBy(\"POIID\")\n",
    "print(\"Average distance for each NEW Point of Interest\")\n",
    "poi_stat_table.avg(\"Distance\").show()\n",
    "print(\"The radius of circle enclosing all requests for each NEW Point of Interest\")\n",
    "poi_stat_table.max(\"Distance\").show()\n",
    "print(\"Standard deviation of distance for each NEW Point of Interest\")\n",
    "poi_stat_table.agg(stddev(\"Distance\")).show()\n",
    "print(\"Request density for each NEW Point of Interest\")\n",
    "poi_counts = poi_stat_table.agg(count(\"POIID\").alias(\"Count\"))\n",
    "poi_radius = poi_stat_table.agg(max(\"Distance\").alias(\"Radius\"))\n",
    "poi_density = poi_counts.join(poi_radius, \"POIID\")\n",
    "poi_density.withColumn(\"Density\", poi_density[\"Count\"] / (poi_density[\"Radius\"] ** 2 * math.pi)).show()"
   ]
  },
  {
   "cell_type": "markdown",
   "id": "35495fac",
   "metadata": {},
   "source": [
    "## 4b Pipeline Dependency\n",
    "Below is my submission for the pipeline dependency part of the challenge:"
   ]
  },
  {
   "cell_type": "code",
   "execution_count": 15,
   "id": "eaf48408",
   "metadata": {},
   "outputs": [
    {
     "name": "stdout",
     "output_type": "stream",
     "text": [
      "Here are all the paths between the starting task to the end task:\n",
      "[['73', '20', '94', '56', '102', '36'], ['73', '20', '94', '102', '36'], ['73', '20', '97', '102', '36']]\n"
     ]
    }
   ],
   "source": [
    "# Reading in the data\n",
    "def read_edges(path):\n",
    "    with open(path, \"r\") as file:\n",
    "        return [ele.split(\"->\") for ele in file.read().splitlines()]\n",
    "def read_nodes(path):\n",
    "    with open(path, \"r\") as file:\n",
    "        return file.read().split(\",\")\n",
    "def read_goal(path):\n",
    "    result = []\n",
    "    with open(path, \"r\") as file:\n",
    "        for line in file.read().splitlines():\n",
    "            result.append(line.split(\":\")[-1].strip())\n",
    "        return result\n",
    "\n",
    "edges = read_edges(\"./data/relations.txt\")\n",
    "nodes = read_nodes(\"./data/task_ids.txt\")\n",
    "start, end = read_goal(\"./data/question.txt\")\n",
    "\n",
    "# Constructing graph\n",
    "graph = {node:[] for node in nodes}\n",
    "for edge in edges:\n",
    "    graph[edge[0]].append(edge[1])\n",
    "\n",
    "# Finding all the paths between start and end nodes\n",
    "def get_all_paths(start, end):\n",
    "    ans = []\n",
    "    def dfs(start, end, cur_path):\n",
    "        if cur_path[-1] == end:\n",
    "            ans.append(cur_path)\n",
    "            return\n",
    "        for nxt in graph[start]:\n",
    "            dfs(nxt, end, cur_path + [nxt])\n",
    "    dfs(start, end, [start])\n",
    "    return ans\n",
    "\n",
    "print(\"Here are all the paths between the starting task to the end task:\")\n",
    "print(get_all_paths(start, end))"
   ]
  }
 ],
 "metadata": {
  "kernelspec": {
   "display_name": "Python 3",
   "language": "python",
   "name": "python3"
  },
  "language_info": {
   "codemirror_mode": {
    "name": "ipython",
    "version": 3
   },
   "file_extension": ".py",
   "mimetype": "text/x-python",
   "name": "python",
   "nbconvert_exporter": "python",
   "pygments_lexer": "ipython3",
   "version": "3.8.5"
  }
 },
 "nbformat": 4,
 "nbformat_minor": 5
}
